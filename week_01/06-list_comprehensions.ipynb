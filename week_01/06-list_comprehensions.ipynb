{
 "cells": [
  {
   "cell_type": "markdown",
   "metadata": {},
   "source": [
    "# Comprehensions"
   ]
  },
  {
   "cell_type": "markdown",
   "metadata": {
    "toc": true
   },
   "source": [
    "<h1>Table of Contents<span class=\"tocSkip\"></span></h1>\n",
    "<div class=\"toc\"><ul class=\"toc-item\"><li><span><a href=\"#Basic-list-comprehensions\" data-toc-modified-id=\"Basic-list-comprehensions-1\"><span class=\"toc-item-num\">1&nbsp;&nbsp;</span>Basic list comprehensions</a></span><ul class=\"toc-item\"><li><span><a href=\"#for-loop\" data-toc-modified-id=\"for-loop-1.1\"><span class=\"toc-item-num\">1.1&nbsp;&nbsp;</span><code>for</code> loop</a></span></li><li><span><a href=\"#for-loop-&amp;-if-condition\" data-toc-modified-id=\"for-loop-&amp;-if-condition-1.2\"><span class=\"toc-item-num\">1.2&nbsp;&nbsp;</span><code>for</code> loop &amp; <code>if</code> condition</a></span></li><li><span><a href=\"#if-else-assignment-inside-for-loop\" data-toc-modified-id=\"if-else-assignment-inside-for-loop-1.3\"><span class=\"toc-item-num\">1.3&nbsp;&nbsp;</span><code>if else</code> assignment inside <code>for</code> loop</a></span></li></ul></li><li><span><a href=\"#Double-list-comprehensions\" data-toc-modified-id=\"Double-list-comprehensions-2\"><span class=\"toc-item-num\">2&nbsp;&nbsp;</span>Double list comprehensions</a></span></li><li><span><a href=\"#Nested-list-comprehensions\" data-toc-modified-id=\"Nested-list-comprehensions-3\"><span class=\"toc-item-num\">3&nbsp;&nbsp;</span>Nested list comprehensions</a></span></li><li><span><a href=\"#Dictionary-comprehensions\" data-toc-modified-id=\"Dictionary-comprehensions-4\"><span class=\"toc-item-num\">4&nbsp;&nbsp;</span>Dictionary comprehensions</a></span></li><li><span><a href=\"#Set-comprehensions\" data-toc-modified-id=\"Set-comprehensions-5\"><span class=\"toc-item-num\">5&nbsp;&nbsp;</span>Set comprehensions</a></span></li><li><span><a href=\"#Summary\" data-toc-modified-id=\"Summary-6\"><span class=\"toc-item-num\">6&nbsp;&nbsp;</span>Summary</a></span></li><li><span><a href=\"#Timings\" data-toc-modified-id=\"Timings-7\"><span class=\"toc-item-num\">7&nbsp;&nbsp;</span>Timings</a></span></li></ul></div>"
   ]
  },
  {
   "cell_type": "markdown",
   "metadata": {},
   "source": [
    "## Basic list comprehensions"
   ]
  },
  {
   "cell_type": "markdown",
   "metadata": {},
   "source": [
    "### `for` loop"
   ]
  },
  {
   "cell_type": "code",
   "execution_count": 1,
   "metadata": {},
   "outputs": [],
   "source": [
    "words = ['play', 'filling', 'bar', 'theatre', 'easygoing', 'date', 'lead', 'that', 'story',  'island']"
   ]
  },
  {
   "cell_type": "code",
   "execution_count": 2,
   "metadata": {},
   "outputs": [
    {
     "data": {
      "text/plain": [
<<<<<<< HEAD
=======
       "list"
      ]
     },
     "execution_count": 2,
     "metadata": {},
     "output_type": "execute_result"
    }
   ],
   "source": [
    "type(words)"
   ]
  },
  {
   "cell_type": "code",
   "execution_count": 3,
   "metadata": {},
   "outputs": [
    {
     "data": {
      "text/plain": [
       "10"
      ]
     },
     "execution_count": 3,
     "metadata": {},
     "output_type": "execute_result"
    }
   ],
   "source": [
    "len(words)"
   ]
  },
  {
   "cell_type": "code",
   "execution_count": 4,
   "metadata": {},
   "outputs": [
    {
     "data": {
      "text/plain": [
>>>>>>> 03e5672c0bdcfde8f7f579c87b9e72f325998b30
       "['play',\n",
       " 'filling',\n",
       " 'bar',\n",
       " 'theatre',\n",
       " 'easygoing',\n",
       " 'date',\n",
       " 'lead',\n",
       " 'that',\n",
       " 'story',\n",
       " 'island']"
      ]
     },
<<<<<<< HEAD
     "execution_count": 2,
=======
     "execution_count": 4,
>>>>>>> 03e5672c0bdcfde8f7f579c87b9e72f325998b30
     "metadata": {},
     "output_type": "execute_result"
    }
   ],
   "source": [
    "words"
   ]
  },
  {
   "cell_type": "markdown",
   "metadata": {},
   "source": [
    "**Exercise**: we want another list with same words in upper case (mayúsculas)"
   ]
  },
  {
   "cell_type": "code",
<<<<<<< HEAD
   "execution_count": 20,
   "metadata": {},
   "outputs": [
    {
     "name": "stdout",
     "output_type": "stream",
     "text": [
      "['PLAY', 'FILLING', 'BAR', 'THEATRE', 'EASYGOING', 'DATE', 'LEAD', 'THAT', 'STORY', 'ISLAND']\n"
     ]
=======
   "execution_count": 5,
   "metadata": {},
   "outputs": [
    {
     "data": {
      "text/plain": [
       "'PEPE'"
      ]
     },
     "execution_count": 5,
     "metadata": {},
     "output_type": "execute_result"
>>>>>>> 03e5672c0bdcfde8f7f579c87b9e72f325998b30
    }
   ],
   "source": [
    "mayus = []\n",
    "for word in words:\n",
    "    mayuscula = word.upper()\n",
    "    mayus.append(mayuscula)\n",
    "print(mayus)"
   ]
  },
  {
<<<<<<< HEAD
   "cell_type": "markdown",
=======
   "cell_type": "code",
   "execution_count": 18,
   "metadata": {},
   "outputs": [],
   "source": [
    "words_big = []"
   ]
  },
  {
   "cell_type": "code",
   "execution_count": 19,
>>>>>>> 03e5672c0bdcfde8f7f579c87b9e72f325998b30
   "metadata": {},
   "outputs": [],
   "source": [
    "for word in words:\n",
    "    word_big = word.upper()\n",
    "    words_big.append(word_big)"
   ]
  },
  {
   "cell_type": "code",
<<<<<<< HEAD
   "execution_count": 21,
   "metadata": {},
   "outputs": [
    {
     "name": "stdout",
     "output_type": "stream",
     "text": [
      "<class 'tuple'>\n",
      "(0, 'play')\n"
     ]
    }
   ],
=======
   "execution_count": 20,
   "metadata": {},
   "outputs": [
    {
     "data": {
      "text/plain": [
       "['PLAY',\n",
       " 'FILLING',\n",
       " 'BAR',\n",
       " 'THEATRE',\n",
       " 'EASYGOING',\n",
       " 'DATE',\n",
       " 'LEAD',\n",
       " 'THAT',\n",
       " 'STORY',\n",
       " 'ISLAND']"
      ]
     },
     "execution_count": 20,
     "metadata": {},
     "output_type": "execute_result"
    }
   ],
   "source": [
    "words_big"
   ]
  },
  {
   "cell_type": "code",
   "execution_count": 30,
   "metadata": {},
   "outputs": [],
>>>>>>> 03e5672c0bdcfde8f7f579c87b9e72f325998b30
   "source": [
    "# equiv\n",
    "words_big = []\n",
    "for word in words:\n",
    "    words_big.append(word.upper())"
   ]
  },
  {
   "cell_type": "markdown",
   "metadata": {},
   "source": [
    "To know what we iterate through we can use `break` and `type`"
   ]
  },
  {
   "cell_type": "code",
   "execution_count": 26,
   "metadata": {},
   "outputs": [
    {
     "name": "stdout",
     "output_type": "stream",
     "text": [
      "<class 'tuple'>\n",
      "(0, 'play')\n"
     ]
    }
   ],
   "source": [
    "for w in enumerate(words):\n",
    "    print(type(w))\n",
    "    print(w)\n",
    "    break"
   ]
  },
  {
   "cell_type": "code",
<<<<<<< HEAD
   "execution_count": 22,
=======
   "execution_count": 24,
>>>>>>> 03e5672c0bdcfde8f7f579c87b9e72f325998b30
   "metadata": {},
   "outputs": [
    {
     "name": "stdout",
     "output_type": "stream",
     "text": [
      "0\n",
      "play\n"
     ]
    }
   ],
   "source": [
    "for ind, word in enumerate(words):\n",
    "    print(ind)\n",
    "    print(word)\n",
    "    break"
   ]
  },
  {
   "cell_type": "markdown",
   "metadata": {},
   "source": [
    "Let's create UPPER list with a comprehension"
   ]
  },
  {
   "cell_type": "markdown",
   "metadata": {},
   "source": [
    "<img width=600 src=\"https://miro.medium.com/max/1022/1*RycJnooSC4_amWAXsvvKhw.png\">"
   ]
  },
  {
   "cell_type": "code",
   "execution_count": 31,
   "metadata": {},
   "outputs": [],
   "source": [
    "words_big = [w.upper() for w in words]"
   ]
  },
  {
   "cell_type": "markdown",
   "metadata": {},
   "source": [
    "$$\\{n^2 : n \\in \\mathbb{N}\\}$$"
   ]
  },
  {
   "cell_type": "code",
<<<<<<< HEAD
   "execution_count": 24,
   "metadata": {},
   "outputs": [
    {
     "name": "stdout",
     "output_type": "stream",
     "text": [
      "[0, 1, 2, 3, 4, 5, 6, 7, 8, 9]\n"
     ]
    }
   ],
=======
   "execution_count": 33,
   "metadata": {},
   "outputs": [
    {
     "data": {
      "text/plain": [
       "['PLAY',\n",
       " 'FILLING',\n",
       " 'BAR',\n",
       " 'THEATRE',\n",
       " 'EASYGOING',\n",
       " 'DATE',\n",
       " 'LEAD',\n",
       " 'THAT',\n",
       " 'STORY',\n",
       " 'ISLAND']"
      ]
     },
     "execution_count": 33,
     "metadata": {},
     "output_type": "execute_result"
    }
   ],
   "source": [
    "words_big"
   ]
  },
  {
   "cell_type": "markdown",
   "metadata": {},
   "source": [
    "**Exercise**: we want a list containing the squares of numbers from 1 to 10."
   ]
  },
  {
   "cell_type": "code",
   "execution_count": 34,
   "metadata": {},
   "outputs": [],
>>>>>>> 03e5672c0bdcfde8f7f579c87b9e72f325998b30
   "source": [
    "nums = list(range(10))\n",
    "print(nums)"
   ]
  },
  {
   "cell_type": "code",
<<<<<<< HEAD
   "execution_count": 27,
   "metadata": {},
   "outputs": [
    {
     "name": "stdout",
     "output_type": "stream",
     "text": [
      "[0, 1, 4, 9, 16, 25, 36, 49, 64, 81]\n"
     ]
    }
   ],
   "source": [
    "numeros =[n**2 for n in nums]\n",
    "print(numeros)"
=======
   "execution_count": 35,
   "metadata": {},
   "outputs": [
    {
     "data": {
      "text/plain": [
       "[0, 1, 2, 3, 4, 5, 6, 7, 8, 9]"
      ]
     },
     "execution_count": 35,
     "metadata": {},
     "output_type": "execute_result"
    }
   ],
   "source": [
    "nums"
   ]
  },
  {
   "cell_type": "code",
   "execution_count": 37,
   "metadata": {},
   "outputs": [],
   "source": [
    "# classic\n",
    "squares = []\n",
    "for n in nums:\n",
    "    squares.append(n ** 2)"
>>>>>>> 03e5672c0bdcfde8f7f579c87b9e72f325998b30
   ]
  },
  {
   "cell_type": "code",
<<<<<<< HEAD
   "execution_count": 29,
   "metadata": {},
   "outputs": [
    {
     "name": "stdout",
     "output_type": "stream",
     "text": [
      "[0, 1, 4, 9, 16, 25, 36, 49, 64, 81]\n"
     ]
    }
   ],
=======
   "execution_count": 38,
   "metadata": {},
   "outputs": [
    {
     "data": {
      "text/plain": [
       "[0, 1, 4, 9, 16, 25, 36, 49, 64, 81]"
      ]
     },
     "execution_count": 38,
     "metadata": {},
     "output_type": "execute_result"
    }
   ],
   "source": [
    "squares"
   ]
  },
  {
   "cell_type": "code",
   "execution_count": 39,
   "metadata": {},
   "outputs": [],
>>>>>>> 03e5672c0bdcfde8f7f579c87b9e72f325998b30
   "source": [
    "# list comprehension\n",
    "squares = [n ** 2 for n in nums]"
   ]
  },
  {
   "cell_type": "code",
   "execution_count": 43,
   "metadata": {},
   "outputs": [
    {
     "data": {
      "text/plain": [
       "[0, 1, 2, 3, 4, 5, 6, 7, 8, 9]"
      ]
     },
     "execution_count": 43,
     "metadata": {},
     "output_type": "execute_result"
    }
   ],
   "source": [
    "nums"
   ]
  },
  {
   "cell_type": "code",
   "execution_count": 44,
   "metadata": {},
   "outputs": [
    {
     "data": {
      "text/plain": [
       "[0, 1, 4, 9, 16, 25, 36, 49, 64, 81]"
      ]
     },
     "execution_count": 44,
     "metadata": {},
     "output_type": "execute_result"
    }
   ],
   "source": [
    "squares"
   ]
  },
  {
   "cell_type": "markdown",
   "metadata": {},
   "source": [
    "### `for` loop & `if` condition"
   ]
  },
  {
   "cell_type": "markdown",
   "metadata": {},
   "source": [
    "**Exercise**: We want the sub-list with words longer than 6 characters."
   ]
  },
  {
   "cell_type": "code",
<<<<<<< HEAD
   "execution_count": 39,
   "metadata": {},
   "outputs": [
    {
     "name": "stdout",
     "output_type": "stream",
     "text": [
      "['FILLING', 'THEATRE', 'EASYGOING']\n"
     ]
    }
   ],
   "source": [
    "long_words = [w.upper() for w in words if len(w)>6]\n",
    "print(long_words)"
=======
   "execution_count": 45,
   "metadata": {},
   "outputs": [
    {
     "data": {
      "text/plain": [
       "['play',\n",
       " 'filling',\n",
       " 'bar',\n",
       " 'theatre',\n",
       " 'easygoing',\n",
       " 'date',\n",
       " 'lead',\n",
       " 'that',\n",
       " 'story',\n",
       " 'island']"
      ]
     },
     "execution_count": 45,
     "metadata": {},
     "output_type": "execute_result"
    }
   ],
   "source": [
    "words"
>>>>>>> 03e5672c0bdcfde8f7f579c87b9e72f325998b30
   ]
  },
  {
   "cell_type": "code",
   "execution_count": null,
   "metadata": {},
   "outputs": [],
   "source": [
    "idUsuario = "
   ]
  },
  {
   "cell_type": "code",
   "execution_count": null,
   "metadata": {},
   "outputs": [],
   "source": [
    "max_len = 6"
   ]
  },
  {
   "cell_type": "code",
   "execution_count": null,
   "metadata": {},
   "outputs": [],
   "source": [
    "words"
   ]
  },
  {
   "cell_type": "code",
   "execution_count": 46,
   "metadata": {},
   "outputs": [
    {
     "data": {
      "text/plain": [
       "8"
      ]
     },
     "execution_count": 46,
     "metadata": {},
     "output_type": "execute_result"
    }
   ],
   "source": [
    "len(\"mesonero\")"
   ]
  },
  {
   "cell_type": "code",
   "execution_count": 54,
   "metadata": {},
   "outputs": [],
   "source": [
    "# classic\n",
    "long_words = []\n",
    "\n",
    "for word in words:\n",
    "    if len(word) > 6:\n",
    "        long_words.append(word)"
   ]
  },
  {
   "cell_type": "code",
   "execution_count": 55,
   "metadata": {},
   "outputs": [
    {
     "data": {
      "text/plain": [
       "['filling', 'theatre', 'easygoing']"
      ]
     },
     "execution_count": 55,
     "metadata": {},
     "output_type": "execute_result"
    }
   ],
   "source": [
    "long_words"
   ]
  },
  {
   "cell_type": "markdown",
   "metadata": {},
   "source": [
    "<img width=600 src=\"https://www.mrdbourke.com/content/images/2019/09/python-list-comprehension-article.png\">"
   ]
  },
  {
   "cell_type": "code",
   "execution_count": 61,
   "metadata": {},
   "outputs": [
    {
     "data": {
      "text/plain": [
       "['plby', 'fill', 'bbr', 'theb', 'ebsy', 'dbte', 'lebd', 'thbt', 'stor', 'islb']"
      ]
     },
     "execution_count": 61,
     "metadata": {},
     "output_type": "execute_result"
    }
   ],
   "source": [
    "# list comprehension\n",
    "[w[:4].replace(\"a\", \"b\") for w in words]"
   ]
  },
  {
   "cell_type": "code",
   "execution_count": 64,
   "metadata": {},
   "outputs": [
    {
     "data": {
      "text/plain": [
       "['filling', 'theatre', 'easygoing']"
      ]
     },
     "execution_count": 64,
     "metadata": {},
     "output_type": "execute_result"
    }
   ],
   "source": [
    "# list comprehension\n",
    "[w for w in words if len(w) > 6]"
   ]
  },
  {
   "cell_type": "code",
   "execution_count": 66,
   "metadata": {},
   "outputs": [],
   "source": [
    "ages = [33, 16, 88, 34, 15, 44, 21]"
   ]
  },
  {
   "cell_type": "markdown",
   "metadata": {},
   "source": [
    "**Exercise**: Build a list with all multiples of 5 between 0 and 100."
   ]
  },
  {
   "cell_type": "code",
<<<<<<< HEAD
   "execution_count": 46,
   "metadata": {},
   "outputs": [
    {
     "name": "stdout",
     "output_type": "stream",
     "text": [
      "[0, 5, 10, 15, 20, 25, 30, 35, 40, 45, 50, 55, 60, 65, 70, 75, 80, 85, 90, 95]\n"
     ]
    }
   ],
   "source": [
    "Multiples = [m for m in range(100) if m%5==0]\n",
    "print(Multiples)"
=======
   "execution_count": 72,
   "metadata": {},
   "outputs": [],
   "source": [
    "# classic\n",
    "multiples = []\n",
    "for n in range(101):\n",
    "    if n % 5 == 0:\n",
    "        multiples.append(n)"
>>>>>>> 03e5672c0bdcfde8f7f579c87b9e72f325998b30
   ]
  },
  {
   "cell_type": "code",
   "execution_count": 78,
   "metadata": {},
   "outputs": [],
   "source": [
    "amigos = [\"pepe\", \"manu\", \"dario\"]"
   ]
  },
  {
   "cell_type": "code",
   "execution_count": 82,
   "metadata": {},
   "outputs": [
    {
     "data": {
      "text/plain": [
       "[0,\n",
       " 5,\n",
       " 10,\n",
       " 15,\n",
       " 20,\n",
       " 25,\n",
       " 30,\n",
       " 35,\n",
       " 40,\n",
       " 45,\n",
       " 50,\n",
       " 55,\n",
       " 60,\n",
       " 65,\n",
       " 70,\n",
       " 75,\n",
       " 80,\n",
       " 85,\n",
       " 90,\n",
       " 95,\n",
       " 100]"
      ]
     },
     "execution_count": 82,
     "metadata": {},
     "output_type": "execute_result"
    }
   ],
   "source": [
    "# list comprehension\n",
    "[n for n in range(101) if n % 5 == 0]"
   ]
  },
  {
   "cell_type": "markdown",
   "metadata": {},
   "source": [
    "Examples"
   ]
  },
  {
   "cell_type": "code",
   "execution_count": 83,
   "metadata": {},
   "outputs": [
    {
     "data": {
      "text/plain": [
       "[0, 2, 4, 6, 8, 10, 12, 14, 16, 18]"
      ]
     },
     "execution_count": 83,
     "metadata": {},
     "output_type": "execute_result"
    }
   ],
   "source": [
    "[2 * x for x in range(10)]"
   ]
  },
  {
   "cell_type": "code",
   "execution_count": 84,
   "metadata": {},
   "outputs": [
    {
     "data": {
      "text/plain": [
       "[7, 7, 7, 7, 7, 7, 7, 7, 7, 7]"
      ]
     },
     "execution_count": 84,
     "metadata": {},
     "output_type": "execute_result"
    }
   ],
   "source": [
    "[7 for x in range(10)]"
   ]
  },
  {
   "cell_type": "code",
   "execution_count": 86,
   "metadata": {},
   "outputs": [
    {
     "data": {
      "text/plain": [
       "[1, 9, 25, 49, 81]"
      ]
     },
     "execution_count": 86,
     "metadata": {},
     "output_type": "execute_result"
    }
   ],
   "source": [
    "[x ** 2 for x in range(10) if x % 2 == 1]"
   ]
  },
  {
   "cell_type": "code",
   "execution_count": 91,
   "metadata": {},
   "outputs": [
    {
     "data": {
      "text/plain": [
       "[0, 1, 4, 9, 16, 25, 36, 49, 64, 81]"
      ]
     },
     "execution_count": 91,
     "metadata": {},
     "output_type": "execute_result"
    }
   ],
   "source": [
    "[numerito ** 2 for numerito in range(10)]"
   ]
  },
  {
   "cell_type": "markdown",
   "metadata": {},
   "source": [
    "### `if else` assignment inside `for` loop"
   ]
  },
  {
   "cell_type": "markdown",
   "metadata": {},
   "source": [
    "Let's first learn how to if-else assign a value to a variable in one line:"
   ]
  },
  {
   "cell_type": "code",
<<<<<<< HEAD
   "execution_count": 47,
=======
   "execution_count": 92,
>>>>>>> 03e5672c0bdcfde8f7f579c87b9e72f325998b30
   "metadata": {},
   "outputs": [],
   "source": [
    "word = \"computer\""
   ]
  },
  {
   "cell_type": "code",
<<<<<<< HEAD
   "execution_count": 49,
   "metadata": {},
   "outputs": [
    {
     "name": "stdout",
     "output_type": "stream",
     "text": [
      "long\n"
     ]
    }
   ],
=======
   "execution_count": 93,
   "metadata": {},
   "outputs": [],
>>>>>>> 03e5672c0bdcfde8f7f579c87b9e72f325998b30
   "source": [
    "if len(word) > 5:\n",
    "    word_type = \"long\"\n",
    "else:\n",
    "    word_type = \"short\"\n",
    "print(word_type)"
   ]
  },
  {
   "cell_type": "code",
<<<<<<< HEAD
   "execution_count": 51,
   "metadata": {},
   "outputs": [
    {
     "name": "stdout",
     "output_type": "stream",
     "text": [
      "long\n"
     ]
    }
   ],
=======
   "execution_count": 94,
   "metadata": {},
   "outputs": [
    {
     "data": {
      "text/plain": [
       "'long'"
      ]
     },
     "execution_count": 94,
     "metadata": {},
     "output_type": "execute_result"
    }
   ],
   "source": [
    "word_type"
   ]
  },
  {
   "cell_type": "code",
   "execution_count": 95,
   "metadata": {},
   "outputs": [],
>>>>>>> 03e5672c0bdcfde8f7f579c87b9e72f325998b30
   "source": [
    "# equivalent one liner\n",
    "word_type = \"long\" if len(word) > 5 else \"short\"\n",
    "print(word_type)"
   ]
  },
  {
   "cell_type": "code",
<<<<<<< HEAD
   "execution_count": 52,
=======
   "execution_count": 96,
   "metadata": {},
   "outputs": [
    {
     "data": {
      "text/plain": [
       "'long'"
      ]
     },
     "execution_count": 96,
     "metadata": {},
     "output_type": "execute_result"
    }
   ],
   "source": [
    "word_type"
   ]
  },
  {
   "cell_type": "code",
   "execution_count": 103,
>>>>>>> 03e5672c0bdcfde8f7f579c87b9e72f325998b30
   "metadata": {},
   "outputs": [],
   "source": [
    "age = 22"
   ]
  },
  {
   "cell_type": "code",
<<<<<<< HEAD
   "execution_count": 53,
=======
   "execution_count": 104,
>>>>>>> 03e5672c0bdcfde8f7f579c87b9e72f325998b30
   "metadata": {},
   "outputs": [],
   "source": [
    "mayor = \"si\" if age > 18 else \"no\""
   ]
  },
  {
   "cell_type": "code",
<<<<<<< HEAD
   "execution_count": 54,
=======
   "execution_count": 105,
>>>>>>> 03e5672c0bdcfde8f7f579c87b9e72f325998b30
   "metadata": {},
   "outputs": [
    {
     "data": {
      "text/plain": [
       "'si'"
      ]
     },
<<<<<<< HEAD
     "execution_count": 54,
=======
     "execution_count": 105,
>>>>>>> 03e5672c0bdcfde8f7f579c87b9e72f325998b30
     "metadata": {},
     "output_type": "execute_result"
    }
   ],
   "source": [
    "mayor"
   ]
  },
  {
   "cell_type": "markdown",
   "metadata": {},
   "source": [
    "**Exercise**: given a list of words, create another list with the same length, computing whether each word is long or short"
   ]
  },
  {
   "cell_type": "code",
<<<<<<< HEAD
   "execution_count": 55,
=======
   "execution_count": 106,
>>>>>>> 03e5672c0bdcfde8f7f579c87b9e72f325998b30
   "metadata": {},
   "outputs": [
    {
     "data": {
      "text/plain": [
       "['play',\n",
       " 'filling',\n",
       " 'bar',\n",
       " 'theatre',\n",
       " 'easygoing',\n",
       " 'date',\n",
       " 'lead',\n",
       " 'that',\n",
       " 'story',\n",
       " 'island']"
      ]
     },
<<<<<<< HEAD
     "execution_count": 55,
=======
     "execution_count": 106,
>>>>>>> 03e5672c0bdcfde8f7f579c87b9e72f325998b30
     "metadata": {},
     "output_type": "execute_result"
    }
   ],
   "source": [
    "words"
   ]
  },
  {
   "cell_type": "code",
<<<<<<< HEAD
   "execution_count": 57,
   "metadata": {},
   "outputs": [
    {
     "name": "stdout",
     "output_type": "stream",
     "text": [
      "['short', 'long', 'short', 'long', 'long', 'short', 'short', 'short', 'short', 'long']\n"
     ]
    }
   ],
=======
   "execution_count": 107,
   "metadata": {},
   "outputs": [],
>>>>>>> 03e5672c0bdcfde8f7f579c87b9e72f325998b30
   "source": [
    "# classic\n",
    "types = []\n",
    "\n",
    "for w in words:\n",
    "    w_type = \"long\" if len(w) > 5 else \"short\"\n",
<<<<<<< HEAD
    "    types.append(w_type)\n",
    "print(types)    "
=======
    "    types.append(w_type)"
>>>>>>> 03e5672c0bdcfde8f7f579c87b9e72f325998b30
   ]
  },
  {
   "cell_type": "code",
<<<<<<< HEAD
   "execution_count": 58,
=======
   "execution_count": 108,
>>>>>>> 03e5672c0bdcfde8f7f579c87b9e72f325998b30
   "metadata": {},
   "outputs": [
    {
     "data": {
      "text/plain": [
<<<<<<< HEAD
       "['play',\n",
       " 'filling',\n",
       " 'bar',\n",
       " 'theatre',\n",
       " 'easygoing',\n",
       " 'date',\n",
       " 'lead',\n",
       " 'that',\n",
       " 'story',\n",
       " 'island']"
      ]
     },
     "execution_count": 58,
=======
       "['short',\n",
       " 'long',\n",
       " 'short',\n",
       " 'long',\n",
       " 'long',\n",
       " 'short',\n",
       " 'short',\n",
       " 'short',\n",
       " 'short',\n",
       " 'long']"
      ]
     },
     "execution_count": 108,
>>>>>>> 03e5672c0bdcfde8f7f579c87b9e72f325998b30
     "metadata": {},
     "output_type": "execute_result"
    }
   ],
   "source": [
    "types"
   ]
  },
  {
   "cell_type": "code",
<<<<<<< HEAD
   "execution_count": 59,
=======
   "execution_count": 116,
>>>>>>> 03e5672c0bdcfde8f7f579c87b9e72f325998b30
   "metadata": {},
   "outputs": [
    {
     "data": {
      "text/plain": [
       "['short',\n",
       " 'long',\n",
       " 'short',\n",
       " 'long',\n",
       " 'long',\n",
       " 'short',\n",
       " 'short',\n",
       " 'short',\n",
       " 'short',\n",
       " 'long']"
      ]
     },
<<<<<<< HEAD
     "execution_count": 59,
=======
     "execution_count": 116,
>>>>>>> 03e5672c0bdcfde8f7f579c87b9e72f325998b30
     "metadata": {},
     "output_type": "execute_result"
    }
   ],
   "source": [
    "# comprehension\n",
    "[(\"long\" if len(w) > 5 else \"short\") for w in words]"
   ]
  },
  {
   "cell_type": "code",
<<<<<<< HEAD
   "execution_count": 60,
=======
   "execution_count": 113,
>>>>>>> 03e5672c0bdcfde8f7f579c87b9e72f325998b30
   "metadata": {},
   "outputs": [
    {
     "data": {
      "text/plain": [
<<<<<<< HEAD
       "['short',\n",
       " 'long',\n",
       " 'short',\n",
       " 'long',\n",
       " 'long',\n",
       " 'short',\n",
       " 'short',\n",
       " 'short',\n",
       " 'short',\n",
       " 'long']"
      ]
     },
     "execution_count": 60,
=======
       "['filling', 'theatre', 'easygoing', 'island']"
      ]
     },
     "execution_count": 113,
>>>>>>> 03e5672c0bdcfde8f7f579c87b9e72f325998b30
     "metadata": {},
     "output_type": "execute_result"
    }
   ],
<<<<<<< HEAD
=======
   "source": [
    "# other thing\n",
    "[w for w in words if len(w) > 5]"
   ]
  },
  {
   "cell_type": "markdown",
   "metadata": {},
>>>>>>> 03e5672c0bdcfde8f7f579c87b9e72f325998b30
   "source": [
    "`if` to the right of `for` filters the list"
   ]
  },
  {
   "cell_type": "markdown",
   "metadata": {},
   "source": [
    "## Double list comprehensions"
   ]
  },
  {
   "cell_type": "markdown",
   "metadata": {},
   "source": [
    "**Exercise**: we are 4 friends. We want to visit 3 countries.  \n",
    "Create a list of strings, containing all the posibilities of \"name loves country\""
   ]
  },
  {
   "cell_type": "markdown",
   "metadata": {},
   "source": [
    "How many combinations are there?"
   ]
  },
  {
   "cell_type": "code",
<<<<<<< HEAD
   "execution_count": 62,
=======
   "execution_count": 119,
>>>>>>> 03e5672c0bdcfde8f7f579c87b9e72f325998b30
   "metadata": {},
   "outputs": [],
   "source": [
    "countries = [\"Brasil\", \"Morocco\", \"New Zealand\"]\n",
    "friends = [\"Alice\", \"Bob\", \"Eve\", \"John\"]"
   ]
  },
  {
   "cell_type": "code",
<<<<<<< HEAD
   "execution_count": 68,
=======
   "execution_count": 120,
   "metadata": {},
   "outputs": [
    {
     "data": {
      "text/plain": [
       "12"
      ]
     },
     "execution_count": 120,
     "metadata": {},
     "output_type": "execute_result"
    }
   ],
   "source": [
    "3 * 4"
   ]
  },
  {
   "cell_type": "code",
   "execution_count": 141,
>>>>>>> 03e5672c0bdcfde8f7f579c87b9e72f325998b30
   "metadata": {},
   "outputs": [
    {
     "name": "stdout",
     "output_type": "stream",
     "text": [
<<<<<<< HEAD
      "Alice Brasil\n",
      "Alice Morocco\n",
      "Alice New Zealand\n",
      "Bob Brasil\n",
      "Bob Morocco\n",
      "Bob New Zealand\n",
      "Eve Brasil\n",
      "Eve Morocco\n",
      "Eve New Zealand\n",
      "John Brasil\n",
      "John Morocco\n",
      "John New Zealand\n"
=======
      "Alice loves Brasil\n",
      "Alice loves Morocco\n",
      "Alice loves New Zealand\n",
      "Bob loves Brasil\n",
      "Bob loves Morocco\n",
      "Bob loves New Zealand\n",
      "Eve loves Brasil\n",
      "Eve loves Morocco\n",
      "Eve loves New Zealand\n",
      "John loves Brasil\n",
      "John loves Morocco\n",
      "John loves New Zealand\n"
>>>>>>> 03e5672c0bdcfde8f7f579c87b9e72f325998b30
     ]
    }
   ],
   "source": [
<<<<<<< HEAD
    "for f in friends:\n",
    "    for c in countries:\n",
    "        print(f,c)"
=======
    "# classic\n",
    "for fr in friends:\n",
    "    for c in countries:\n",
    "        print(f\"{fr} loves {c}\")"
>>>>>>> 03e5672c0bdcfde8f7f579c87b9e72f325998b30
   ]
  },
  {
   "cell_type": "code",
<<<<<<< HEAD
   "execution_count": 70,
   "metadata": {},
   "outputs": [
    {
     "name": "stdout",
     "output_type": "stream",
     "text": [
      "['AliceBrasil', 'AliceMorocco', 'AliceNew Zealand', 'BobBrasil', 'BobMorocco', 'BobNew Zealand', 'EveBrasil', 'EveMorocco', 'EveNew Zealand', 'JohnBrasil', 'JohnMorocco', 'JohnNew Zealand']\n"
     ]
    }
   ],
   "source": [
    "names_loves_country = [f + c for f in friends for c in countries]\n",
    "print(names_loves_country)"
   ]
  },
  {
   "cell_type": "code",
   "execution_count": 71,
=======
   "execution_count": 136,
>>>>>>> 03e5672c0bdcfde8f7f579c87b9e72f325998b30
   "metadata": {},
   "outputs": [],
   "source": [
    "# list comprehension\n",
    "pairs = [fr + \" loves \" + c.upper() for fr in friends for c in countries]"
   ]
  },
  {
   "cell_type": "code",
<<<<<<< HEAD
   "execution_count": 73,
=======
   "execution_count": 137,
>>>>>>> 03e5672c0bdcfde8f7f579c87b9e72f325998b30
   "metadata": {},
   "outputs": [
    {
     "data": {
      "text/plain": [
<<<<<<< HEAD
       "5"
      ]
     },
     "execution_count": 73,
=======
       "['Alice loves BRASIL',\n",
       " 'Alice loves MOROCCO',\n",
       " 'Alice loves NEW ZEALAND',\n",
       " 'Bob loves BRASIL',\n",
       " 'Bob loves MOROCCO',\n",
       " 'Bob loves NEW ZEALAND',\n",
       " 'Eve loves BRASIL',\n",
       " 'Eve loves MOROCCO',\n",
       " 'Eve loves NEW ZEALAND',\n",
       " 'John loves BRASIL',\n",
       " 'John loves MOROCCO',\n",
       " 'John loves NEW ZEALAND']"
      ]
     },
     "execution_count": 137,
     "metadata": {},
     "output_type": "execute_result"
    }
   ],
   "source": [
    "pairs"
   ]
  },
  {
   "cell_type": "code",
   "execution_count": 138,
   "metadata": {},
   "outputs": [
    {
     "data": {
      "text/plain": [
       "12"
      ]
     },
     "execution_count": 138,
>>>>>>> 03e5672c0bdcfde8f7f579c87b9e72f325998b30
     "metadata": {},
     "output_type": "execute_result"
    }
   ],
   "source": [
    "len(\"pairs\")"
   ]
  },
  {
   "cell_type": "markdown",
   "metadata": {},
   "source": [
    "## Nested list comprehensions"
   ]
  },
  {
   "cell_type": "code",
<<<<<<< HEAD
   "execution_count": 74,
=======
   "execution_count": 142,
>>>>>>> 03e5672c0bdcfde8f7f579c87b9e72f325998b30
   "metadata": {},
   "outputs": [
    {
     "data": {
      "text/plain": [
       "['Alice', 'Bob', 'Eve', 'John']"
      ]
     },
<<<<<<< HEAD
     "execution_count": 74,
=======
     "execution_count": 142,
>>>>>>> 03e5672c0bdcfde8f7f579c87b9e72f325998b30
     "metadata": {},
     "output_type": "execute_result"
    }
   ],
   "source": [
    "friends"
   ]
  },
  {
   "cell_type": "markdown",
   "metadata": {},
   "source": [
    "Build a list of lists with names in upper and lower\n",
    "\n",
    "first element shold be `[\"Alice\", \"ALICE\", \"alice\"]`"
   ]
  },
  {
   "cell_type": "code",
<<<<<<< HEAD
   "execution_count": 85,
=======
   "execution_count": 153,
>>>>>>> 03e5672c0bdcfde8f7f579c87b9e72f325998b30
   "metadata": {},
   "outputs": [
    {
     "data": {
      "text/plain": [
<<<<<<< HEAD
       "[['Alice', 'alice', 'ALICE', 'alice'],\n",
       " ['Bob', 'bob', 'BOB', 'bob'],\n",
       " ['Eve', 'eve', 'EVE', 'eve'],\n",
       " ['John', 'john', 'JOHN', 'john']]"
      ]
     },
     "execution_count": 85,
=======
       "[['Alice', 'ALICE', 'alice'],\n",
       " ['Bob', 'BOB', 'bob'],\n",
       " ['Eve', 'EVE', 'eve'],\n",
       " ['John', 'JOHN', 'john']]"
      ]
     },
     "execution_count": 153,
>>>>>>> 03e5672c0bdcfde8f7f579c87b9e72f325998b30
     "metadata": {},
     "output_type": "execute_result"
    }
   ],
   "source": [
    "# list comprehension\n",
<<<<<<< HEAD
    "[[f, f.lower(), f.upper(), f.lower()] for f in friends]"
=======
    "[[fr, fr.upper(), fr.lower()] for fr in friends]"
>>>>>>> 03e5672c0bdcfde8f7f579c87b9e72f325998b30
   ]
  },
  {
   "cell_type": "code",
   "execution_count": 154,
   "metadata": {},
   "outputs": [
    {
     "data": {
      "text/plain": [
       "4"
      ]
     },
     "execution_count": 154,
     "metadata": {},
     "output_type": "execute_result"
    }
   ],
   "source": [
    "len(_)"
   ]
  },
  {
   "cell_type": "markdown",
   "metadata": {},
   "source": [
    "## Dictionary comprehensions"
   ]
  },
  {
   "cell_type": "markdown",
   "metadata": {},
   "source": [
    "**Exercise**: you are given a list of words. Write a dictionary containing the length of every word."
   ]
  },
  {
   "cell_type": "code",
<<<<<<< HEAD
   "execution_count": 86,
=======
   "execution_count": 166,
   "metadata": {},
   "outputs": [],
   "source": [
    "person = {\n",
    "    \"name\": \"manu\"\n",
    "}"
   ]
  },
  {
   "cell_type": "code",
   "execution_count": 167,
>>>>>>> 03e5672c0bdcfde8f7f579c87b9e72f325998b30
   "metadata": {},
   "outputs": [
    {
     "data": {
      "text/plain": [
<<<<<<< HEAD
       "['play',\n",
       " 'filling',\n",
       " 'bar',\n",
       " 'theatre',\n",
       " 'easygoing',\n",
       " 'date',\n",
       " 'lead',\n",
       " 'that',\n",
       " 'story',\n",
       " 'island']"
      ]
     },
     "execution_count": 86,
=======
       "{'name': 'manu'}"
      ]
     },
     "execution_count": 167,
>>>>>>> 03e5672c0bdcfde8f7f579c87b9e72f325998b30
     "metadata": {},
     "output_type": "execute_result"
    }
   ],
<<<<<<< HEAD
=======
   "source": [
    "person"
   ]
  },
  {
   "cell_type": "code",
   "execution_count": 168,
   "metadata": {},
   "outputs": [],
>>>>>>> 03e5672c0bdcfde8f7f579c87b9e72f325998b30
   "source": [
    "person[\"age\"] = 32"
   ]
  },
  {
   "cell_type": "code",
   "execution_count": 169,
   "metadata": {},
   "outputs": [
    {
     "data": {
      "text/plain": [
       "{'name': 'manu', 'age': 32}"
      ]
     },
     "execution_count": 169,
     "metadata": {},
     "output_type": "execute_result"
    }
   ],
   "source": [
    "person"
   ]
  },
  {
   "cell_type": "code",
   "execution_count": 158,
   "metadata": {},
   "outputs": [
    {
     "data": {
      "text/plain": [
       "['play',\n",
       " 'filling',\n",
       " 'bar',\n",
       " 'theatre',\n",
       " 'easygoing',\n",
       " 'date',\n",
       " 'lead',\n",
       " 'that',\n",
       " 'story',\n",
       " 'island']"
      ]
     },
     "execution_count": 158,
     "metadata": {},
     "output_type": "execute_result"
    }
   ],
   "source": [
    "words"
   ]
  },
  {
   "cell_type": "markdown",
   "metadata": {},
   "source": [
    "```\n",
    "{\n",
    "    \"play\": 4,\n",
    "    \"filling\": 7,\n",
    "    ...\n",
    "}\n",
    "```"
   ]
  },
  {
   "cell_type": "code",
   "execution_count": 98,
   "metadata": {},
   "outputs": [
    {
     "name": "stdout",
     "output_type": "stream",
     "text": [
      "[['play', 4], ['filling', 7], ['bar', 3], ['theatre', 7], ['easygoing', 9], ['date', 4], ['lead', 4], ['that', 4], ['story', 5], ['island', 6]]\n"
     ]
    }
   ],
   "source": [
<<<<<<< HEAD
    "word_lengths = [[w, len(w)] for w in words]\n",
    "print(word_lengths)"
=======
    "# classic\n",
    "word_dict = dict()\n",
    "# equiv to {} but less readable (couldn't it be a set?)\n",
    "\n",
    "for w in words:\n",
    "    words_dict[w] = len(w)"
>>>>>>> 03e5672c0bdcfde8f7f579c87b9e72f325998b30
   ]
  },
  {
   "cell_type": "code",
<<<<<<< HEAD
   "execution_count": 99,
   "metadata": {},
   "outputs": [],
=======
   "execution_count": 175,
   "metadata": {},
   "outputs": [
    {
     "data": {
      "text/plain": [
       "{'play': 4,\n",
       " 'filling': 7,\n",
       " 'bar': 3,\n",
       " 'theatre': 7,\n",
       " 'easygoing': 9,\n",
       " 'date': 4,\n",
       " 'lead': 4,\n",
       " 'that': 4,\n",
       " 'story': 5,\n",
       " 'island': 6}"
      ]
     },
     "execution_count": 175,
     "metadata": {},
     "output_type": "execute_result"
    }
   ],
>>>>>>> 03e5672c0bdcfde8f7f579c87b9e72f325998b30
   "source": [
    "words_dict"
   ]
  },
  {
<<<<<<< HEAD
   "cell_type": "code",
   "execution_count": 100,
   "metadata": {},
   "outputs": [
    {
     "data": {
      "text/plain": [
       "dict"
      ]
     },
     "execution_count": 100,
     "metadata": {},
     "output_type": "execute_result"
    }
   ],
=======
   "cell_type": "markdown",
   "metadata": {},
>>>>>>> 03e5672c0bdcfde8f7f579c87b9e72f325998b30
   "source": [
    "1. Create a dictionary called `person` for a person whose  \n",
    "name is \"Juan\"  \n",
    "age is 44  \n",
    "2. He has 3 siblings. Add this information to the dict  \n",
    "3. He just turned 45. Update the dictionary  "
   ]
  },
  {
   "cell_type": "code",
   "execution_count": 176,
   "metadata": {},
   "outputs": [
    {
     "data": {
      "text/plain": [
       "['play',\n",
       " 'filling',\n",
       " 'bar',\n",
       " 'theatre',\n",
       " 'easygoing',\n",
       " 'date',\n",
       " 'lead',\n",
       " 'that',\n",
       " 'story',\n",
       " 'island']"
      ]
     },
     "execution_count": 176,
     "metadata": {},
     "output_type": "execute_result"
    }
   ],
   "source": [
    "words"
   ]
  },
  {
   "cell_type": "code",
   "execution_count": 177,
   "metadata": {},
   "outputs": [
    {
     "data": {
      "text/plain": [
       "{'play': 4,\n",
       " 'filling': 7,\n",
       " 'bar': 3,\n",
       " 'theatre': 7,\n",
       " 'easygoing': 9,\n",
       " 'date': 4,\n",
       " 'lead': 4,\n",
       " 'that': 4,\n",
       " 'story': 5,\n",
       " 'island': 6}"
      ]
     },
     "execution_count": 177,
     "metadata": {},
     "output_type": "execute_result"
    }
   ],
   "source": [
    "# dict comprehension\n",
    "{w: len(w) for w in words}"
   ]
  },
  {
   "cell_type": "code",
<<<<<<< HEAD
   "execution_count": 101,
=======
   "execution_count": 178,
>>>>>>> 03e5672c0bdcfde8f7f579c87b9e72f325998b30
   "metadata": {},
   "outputs": [
    {
     "data": {
      "text/plain": [
       "{'PLAY': 4,\n",
       " 'FILLING': 7,\n",
       " 'BAR': 3,\n",
       " 'THEATRE': 7,\n",
       " 'EASYGOING': 9,\n",
       " 'DATE': 4,\n",
       " 'LEAD': 4,\n",
       " 'THAT': 4,\n",
       " 'STORY': 5,\n",
       " 'ISLAND': 6}"
      ]
     },
<<<<<<< HEAD
     "execution_count": 101,
=======
     "execution_count": 178,
>>>>>>> 03e5672c0bdcfde8f7f579c87b9e72f325998b30
     "metadata": {},
     "output_type": "execute_result"
    }
   ],
   "source": [
    "# more use cases\n",
    "{w.upper(): len(w) for w in words}"
   ]
  },
  {
   "cell_type": "code",
<<<<<<< HEAD
   "execution_count": 102,
=======
   "execution_count": 181,
>>>>>>> 03e5672c0bdcfde8f7f579c87b9e72f325998b30
   "metadata": {},
   "outputs": [
    {
     "data": {
      "text/plain": [
<<<<<<< HEAD
       "{'PLAY': 1,\n",
       " 'FILLING': 1,\n",
       " 'BAR': 1,\n",
       " 'THEATRE': 1,\n",
       " 'EASYGOING': 1,\n",
       " 'DATE': 1,\n",
       " 'LEAD': 1,\n",
       " 'THAT': 1,\n",
       " 'STORY': 1,\n",
       " 'ISLAND': 1}"
      ]
     },
     "execution_count": 102,
=======
       "{'FILLING': 7, 'THEATRE': 7, 'EASYGOING': 9, 'ISLAND': 6}"
      ]
     },
     "execution_count": 181,
>>>>>>> 03e5672c0bdcfde8f7f579c87b9e72f325998b30
     "metadata": {},
     "output_type": "execute_result"
    }
   ],
   "source": [
    "# more use cases\n",
    "{w.upper(): len(w) for w in words if len(w) > 5}"
   ]
  },
  {
   "cell_type": "code",
<<<<<<< HEAD
   "execution_count": 104,
=======
   "execution_count": 184,
>>>>>>> 03e5672c0bdcfde8f7f579c87b9e72f325998b30
   "metadata": {},
   "outputs": [
    {
     "data": {
      "text/plain": [
       "{'PLAY': 0,\n",
       " 'FILLING': 1,\n",
       " 'BAR': 2,\n",
       " 'THEATRE': 3,\n",
       " 'EASYGOING': 4,\n",
       " 'DATE': 5,\n",
       " 'LEAD': 6,\n",
       " 'THAT': 7,\n",
       " 'STORY': 8,\n",
       " 'ISLAND': 9}"
      ]
     },
<<<<<<< HEAD
     "execution_count": 104,
=======
     "execution_count": 184,
>>>>>>> 03e5672c0bdcfde8f7f579c87b9e72f325998b30
     "metadata": {},
     "output_type": "execute_result"
    }
   ],
   "source": [
    "{w.upper(): ind for ind, w in enumerate(words)}"
   ]
  },
  {
   "cell_type": "markdown",
   "metadata": {},
   "source": [
    "**Exercise**: you are given a dict of ages.  \n",
    "Create a dictionary containing their ages in 5 years time."
   ]
  },
  {
   "cell_type": "code",
<<<<<<< HEAD
   "execution_count": 107,
=======
   "execution_count": 186,
>>>>>>> 03e5672c0bdcfde8f7f579c87b9e72f325998b30
   "metadata": {},
   "outputs": [],
   "source": [
    "ages = {\n",
    "    \"Alice\": 24,\n",
    "    \"Bob\": 28,\n",
    "    \"Eve\": 34,\n",
    "    \"John\": 19\n",
    "}"
   ]
  },
  {
   "cell_type": "code",
<<<<<<< HEAD
   "execution_count": 130,
   "metadata": {},
   "outputs": [
    {
     "data": {
      "text/plain": [
       "[['play', 4],\n",
       " ['filling', 7],\n",
       " ['bar', 3],\n",
       " ['theatre', 7],\n",
       " ['easygoing', 9],\n",
       " ['date', 4],\n",
       " ['lead', 4],\n",
       " ['that', 4],\n",
       " ['story', 5],\n",
       " ['island', 6]]"
      ]
     },
     "execution_count": 130,
     "metadata": {},
     "output_type": "execute_result"
    }
   ],
   "source": [
    "[[w, len(w)] for w in words]\n"
=======
   "execution_count": 190,
   "metadata": {},
   "outputs": [],
   "source": [
    "# classic\n",
    "new_ages = dict()\n",
    "for name, age in ages.items():\n",
    "    new_ages[name] = age + 5"
>>>>>>> 03e5672c0bdcfde8f7f579c87b9e72f325998b30
   ]
  },
  {
   "cell_type": "code",
   "execution_count": 191,
   "metadata": {},
   "outputs": [
    {
     "data": {
      "text/plain": [
       "{'Alice': 29, 'Bob': 33, 'Eve': 39, 'John': 24}"
      ]
     },
     "execution_count": 191,
     "metadata": {},
     "output_type": "execute_result"
    }
   ],
   "source": [
    "new_ages"
   ]
  },
  {
   "cell_type": "code",
   "execution_count": 115,
   "metadata": {},
   "outputs": [
    {
     "name": "stdout",
     "output_type": "stream",
     "text": [
      "{'Alice': 29, 'Bob': 33, 'Eve': 39, 'John': 24}\n"
     ]
    }
   ],
   "source": [
<<<<<<< HEAD
    "new_ages ={n: a+5 for n,a in ages.items()}\n",
    "print(new_ages)"
=======
    "# dict comprehension\n",
    "{name: age + 5 for name, age in ages.items()}"
   ]
  },
  {
   "cell_type": "code",
   "execution_count": 193,
   "metadata": {},
   "outputs": [
    {
     "data": {
      "text/plain": [
       "[34, 38, 44, 29]"
      ]
     },
     "execution_count": 193,
     "metadata": {},
     "output_type": "execute_result"
    }
   ],
   "source": [
    "# other thing\n",
    "[age + 10 for name, age in ages.items()]"
   ]
  },
  {
   "cell_type": "code",
   "execution_count": 196,
   "metadata": {},
   "outputs": [
    {
     "data": {
      "text/plain": [
       "{'P': 'pjuan', 'E': 'ejuan', 'I': 'ijuan', 'T': 'tjuan', 'O': 'ojuan'}"
      ]
     },
     "execution_count": 196,
     "metadata": {},
     "output_type": "execute_result"
    }
   ],
   "source": [
    "# we can iterate over arbitrary iterable objects, like for example, strings\n",
    "{char.upper(): char + \"juan\" for char in \"pepito\"}"
>>>>>>> 03e5672c0bdcfde8f7f579c87b9e72f325998b30
   ]
  },
  {
   "cell_type": "markdown",
   "metadata": {},
   "source": [
    "## Set comprehensions"
   ]
  },
  {
   "cell_type": "markdown",
   "metadata": {},
   "source": [
    "**Exercise**: you are given country-age pairs for several users. Build a set with unique countries."
   ]
  },
  {
   "cell_type": "code",
<<<<<<< HEAD
   "execution_count": 116,
=======
   "execution_count": 205,
>>>>>>> 03e5672c0bdcfde8f7f579c87b9e72f325998b30
   "metadata": {},
   "outputs": [],
   "source": [
    "codes = [\"es-91\", \"en-88\", \"en-43\", \"fr-12\", \"it-33\", \"es-15\", \"fr-55\", \"es-66\", \"usa-55\"]"
   ]
  },
  {
   "cell_type": "code",
<<<<<<< HEAD
   "execution_count": 122,
   "metadata": {},
   "outputs": [
    {
     "name": "stdout",
     "output_type": "stream",
     "text": [
      "{'en-', 'fr-', 'it-', 'es-', 'usa'}\n"
     ]
    }
   ],
   "source": [
    "set1 = set([code[:3] for code in codes])\n",
    "print(set1)"
=======
   "execution_count": 214,
   "metadata": {},
   "outputs": [],
   "source": [
    "# check split method\n",
    "code = \"usa-91\"\n",
    "code.split(\"-\")[0]"
   ]
  },
  {
   "cell_type": "code",
   "execution_count": 219,
   "metadata": {},
   "outputs": [
    {
     "data": {
      "text/plain": [
       "['es', 'en', 'en', 'fr', 'it', 'es', 'fr', 'es', 'usa']"
      ]
     },
     "execution_count": 219,
     "metadata": {},
     "output_type": "execute_result"
    }
   ],
   "source": [
    "# list comprehension\n",
    "[c.split(\"-\")[0] for c in codes]"
   ]
  },
  {
   "cell_type": "code",
   "execution_count": 220,
   "metadata": {},
   "outputs": [
    {
     "data": {
      "text/plain": [
       "{'en', 'es', 'fr', 'it', 'usa'}"
      ]
     },
     "execution_count": 220,
     "metadata": {},
     "output_type": "execute_result"
    }
   ],
   "source": [
    "set([c.split(\"-\")[0] for c in codes])"
   ]
  },
  {
   "cell_type": "code",
   "execution_count": 222,
   "metadata": {},
   "outputs": [
    {
     "data": {
      "text/plain": [
       "{'en', 'es', 'fr', 'it', 'usa'}"
      ]
     },
     "execution_count": 222,
     "metadata": {},
     "output_type": "execute_result"
    }
   ],
   "source": [
    "# equiv\n",
    "{c.split(\"-\")[0] for c in codes}"
>>>>>>> 03e5672c0bdcfde8f7f579c87b9e72f325998b30
   ]
  },
  {
   "cell_type": "markdown",
   "metadata": {},
   "source": [
    "## Summary"
   ]
  },
  {
   "cell_type": "markdown",
   "metadata": {},
   "source": [
    " * Comprehensions are elegant.\n",
    " * Comprehensions are compact.\n",
    " * Readability counts: do not ALWAYS use comprehensions.\n",
    " * List, set, dict comprehensions"
   ]
  },
  {
   "cell_type": "markdown",
   "metadata": {},
   "source": [
    "## Timings"
   ]
  },
  {
   "cell_type": "code",
<<<<<<< HEAD
   "execution_count": 129,
   "metadata": {},
   "outputs": [
    {
     "name": "stderr",
     "output_type": "stream",
     "text": [
      "IOPub data rate exceeded.\n",
      "The notebook server will temporarily stop sending output\n",
      "to the client in order to avoid crashing it.\n",
      "To change this limit, set the config variable\n",
      "`--NotebookApp.iopub_data_rate_limit`.\n",
      "\n",
      "Current values:\n",
      "NotebookApp.iopub_data_rate_limit=1000000.0 (bytes/sec)\n",
      "NotebookApp.rate_limit_window=3.0 (secs)\n",
      "\n"
     ]
    }
   ],
=======
   "execution_count": 230,
   "metadata": {},
   "outputs": [],
>>>>>>> 03e5672c0bdcfde8f7f579c87b9e72f325998b30
   "source": [
    "nums = list(range(10 ** 6))\n",
    "print(nums)"
   ]
  },
  {
   "cell_type": "code",
<<<<<<< HEAD
   "execution_count": 128,
   "metadata": {},
   "outputs": [
    {
     "data": {
      "text/plain": [
       "[0,\n",
       " 1,\n",
       " 2,\n",
       " 3,\n",
       " 4,\n",
       " 5,\n",
       " 6,\n",
       " 7,\n",
       " 8,\n",
       " 9,\n",
       " 10,\n",
       " 11,\n",
       " 12,\n",
       " 13,\n",
       " 14,\n",
       " 15,\n",
       " 16,\n",
       " 17,\n",
       " 18,\n",
       " 19,\n",
       " 20,\n",
       " 21,\n",
       " 22,\n",
       " 23,\n",
       " 24,\n",
       " 25,\n",
       " 26,\n",
       " 27,\n",
       " 28,\n",
       " 29,\n",
       " 30,\n",
       " 31,\n",
       " 32,\n",
       " 33,\n",
       " 34,\n",
       " 35,\n",
       " 36,\n",
       " 37,\n",
       " 38,\n",
       " 39,\n",
       " 40,\n",
       " 41,\n",
       " 42,\n",
       " 43,\n",
       " 44,\n",
       " 45,\n",
       " 46,\n",
       " 47,\n",
       " 48,\n",
       " 49,\n",
       " 50,\n",
       " 51,\n",
       " 52,\n",
       " 53,\n",
       " 54,\n",
       " 55,\n",
       " 56,\n",
       " 57,\n",
       " 58,\n",
       " 59,\n",
       " 60,\n",
       " 61,\n",
       " 62,\n",
       " 63,\n",
       " 64,\n",
       " 65,\n",
       " 66,\n",
       " 67,\n",
       " 68,\n",
       " 69,\n",
       " 70,\n",
       " 71,\n",
       " 72,\n",
       " 73,\n",
       " 74,\n",
       " 75,\n",
       " 76,\n",
       " 77,\n",
       " 78,\n",
       " 79,\n",
       " 80,\n",
       " 81,\n",
       " 82,\n",
       " 83,\n",
       " 84,\n",
       " 85,\n",
       " 86,\n",
       " 87,\n",
       " 88,\n",
       " 89,\n",
       " 90,\n",
       " 91,\n",
       " 92,\n",
       " 93,\n",
       " 94,\n",
       " 95,\n",
       " 96,\n",
       " 97,\n",
       " 98,\n",
       " 99,\n",
       " 100,\n",
       " 101,\n",
       " 102,\n",
       " 103,\n",
       " 104,\n",
       " 105,\n",
       " 106,\n",
       " 107,\n",
       " 108,\n",
       " 109,\n",
       " 110,\n",
       " 111,\n",
       " 112,\n",
       " 113,\n",
       " 114,\n",
       " 115,\n",
       " 116,\n",
       " 117,\n",
       " 118,\n",
       " 119,\n",
       " 120,\n",
       " 121,\n",
       " 122,\n",
       " 123,\n",
       " 124,\n",
       " 125,\n",
       " 126,\n",
       " 127,\n",
       " 128,\n",
       " 129,\n",
       " 130,\n",
       " 131,\n",
       " 132,\n",
       " 133,\n",
       " 134,\n",
       " 135,\n",
       " 136,\n",
       " 137,\n",
       " 138,\n",
       " 139,\n",
       " 140,\n",
       " 141,\n",
       " 142,\n",
       " 143,\n",
       " 144,\n",
       " 145,\n",
       " 146,\n",
       " 147,\n",
       " 148,\n",
       " 149,\n",
       " 150,\n",
       " 151,\n",
       " 152,\n",
       " 153,\n",
       " 154,\n",
       " 155,\n",
       " 156,\n",
       " 157,\n",
       " 158,\n",
       " 159,\n",
       " 160,\n",
       " 161,\n",
       " 162,\n",
       " 163,\n",
       " 164,\n",
       " 165,\n",
       " 166,\n",
       " 167,\n",
       " 168,\n",
       " 169,\n",
       " 170,\n",
       " 171,\n",
       " 172,\n",
       " 173,\n",
       " 174,\n",
       " 175,\n",
       " 176,\n",
       " 177,\n",
       " 178,\n",
       " 179,\n",
       " 180,\n",
       " 181,\n",
       " 182,\n",
       " 183,\n",
       " 184,\n",
       " 185,\n",
       " 186,\n",
       " 187,\n",
       " 188,\n",
       " 189,\n",
       " 190,\n",
       " 191,\n",
       " 192,\n",
       " 193,\n",
       " 194,\n",
       " 195,\n",
       " 196,\n",
       " 197,\n",
       " 198,\n",
       " 199,\n",
       " 200,\n",
       " 201,\n",
       " 202,\n",
       " 203,\n",
       " 204,\n",
       " 205,\n",
       " 206,\n",
       " 207,\n",
       " 208,\n",
       " 209,\n",
       " 210,\n",
       " 211,\n",
       " 212,\n",
       " 213,\n",
       " 214,\n",
       " 215,\n",
       " 216,\n",
       " 217,\n",
       " 218,\n",
       " 219,\n",
       " 220,\n",
       " 221,\n",
       " 222,\n",
       " 223,\n",
       " 224,\n",
       " 225,\n",
       " 226,\n",
       " 227,\n",
       " 228,\n",
       " 229,\n",
       " 230,\n",
       " 231,\n",
       " 232,\n",
       " 233,\n",
       " 234,\n",
       " 235,\n",
       " 236,\n",
       " 237,\n",
       " 238,\n",
       " 239,\n",
       " 240,\n",
       " 241,\n",
       " 242,\n",
       " 243,\n",
       " 244,\n",
       " 245,\n",
       " 246,\n",
       " 247,\n",
       " 248,\n",
       " 249,\n",
       " 250,\n",
       " 251,\n",
       " 252,\n",
       " 253,\n",
       " 254,\n",
       " 255,\n",
       " 256,\n",
       " 257,\n",
       " 258,\n",
       " 259,\n",
       " 260,\n",
       " 261,\n",
       " 262,\n",
       " 263,\n",
       " 264,\n",
       " 265,\n",
       " 266,\n",
       " 267,\n",
       " 268,\n",
       " 269,\n",
       " 270,\n",
       " 271,\n",
       " 272,\n",
       " 273,\n",
       " 274,\n",
       " 275,\n",
       " 276,\n",
       " 277,\n",
       " 278,\n",
       " 279,\n",
       " 280,\n",
       " 281,\n",
       " 282,\n",
       " 283,\n",
       " 284,\n",
       " 285,\n",
       " 286,\n",
       " 287,\n",
       " 288,\n",
       " 289,\n",
       " 290,\n",
       " 291,\n",
       " 292,\n",
       " 293,\n",
       " 294,\n",
       " 295,\n",
       " 296,\n",
       " 297,\n",
       " 298,\n",
       " 299,\n",
       " 300,\n",
       " 301,\n",
       " 302,\n",
       " 303,\n",
       " 304,\n",
       " 305,\n",
       " 306,\n",
       " 307,\n",
       " 308,\n",
       " 309,\n",
       " 310,\n",
       " 311,\n",
       " 312,\n",
       " 313,\n",
       " 314,\n",
       " 315,\n",
       " 316,\n",
       " 317,\n",
       " 318,\n",
       " 319,\n",
       " 320,\n",
       " 321,\n",
       " 322,\n",
       " 323,\n",
       " 324,\n",
       " 325,\n",
       " 326,\n",
       " 327,\n",
       " 328,\n",
       " 329,\n",
       " 330,\n",
       " 331,\n",
       " 332,\n",
       " 333,\n",
       " 334,\n",
       " 335,\n",
       " 336,\n",
       " 337,\n",
       " 338,\n",
       " 339,\n",
       " 340,\n",
       " 341,\n",
       " 342,\n",
       " 343,\n",
       " 344,\n",
       " 345,\n",
       " 346,\n",
       " 347,\n",
       " 348,\n",
       " 349,\n",
       " 350,\n",
       " 351,\n",
       " 352,\n",
       " 353,\n",
       " 354,\n",
       " 355,\n",
       " 356,\n",
       " 357,\n",
       " 358,\n",
       " 359,\n",
       " 360,\n",
       " 361,\n",
       " 362,\n",
       " 363,\n",
       " 364,\n",
       " 365,\n",
       " 366,\n",
       " 367,\n",
       " 368,\n",
       " 369,\n",
       " 370,\n",
       " 371,\n",
       " 372,\n",
       " 373,\n",
       " 374,\n",
       " 375,\n",
       " 376,\n",
       " 377,\n",
       " 378,\n",
       " 379,\n",
       " 380,\n",
       " 381,\n",
       " 382,\n",
       " 383,\n",
       " 384,\n",
       " 385,\n",
       " 386,\n",
       " 387,\n",
       " 388,\n",
       " 389,\n",
       " 390,\n",
       " 391,\n",
       " 392,\n",
       " 393,\n",
       " 394,\n",
       " 395,\n",
       " 396,\n",
       " 397,\n",
       " 398,\n",
       " 399,\n",
       " 400,\n",
       " 401,\n",
       " 402,\n",
       " 403,\n",
       " 404,\n",
       " 405,\n",
       " 406,\n",
       " 407,\n",
       " 408,\n",
       " 409,\n",
       " 410,\n",
       " 411,\n",
       " 412,\n",
       " 413,\n",
       " 414,\n",
       " 415,\n",
       " 416,\n",
       " 417,\n",
       " 418,\n",
       " 419,\n",
       " 420,\n",
       " 421,\n",
       " 422,\n",
       " 423,\n",
       " 424,\n",
       " 425,\n",
       " 426,\n",
       " 427,\n",
       " 428,\n",
       " 429,\n",
       " 430,\n",
       " 431,\n",
       " 432,\n",
       " 433,\n",
       " 434,\n",
       " 435,\n",
       " 436,\n",
       " 437,\n",
       " 438,\n",
       " 439,\n",
       " 440,\n",
       " 441,\n",
       " 442,\n",
       " 443,\n",
       " 444,\n",
       " 445,\n",
       " 446,\n",
       " 447,\n",
       " 448,\n",
       " 449,\n",
       " 450,\n",
       " 451,\n",
       " 452,\n",
       " 453,\n",
       " 454,\n",
       " 455,\n",
       " 456,\n",
       " 457,\n",
       " 458,\n",
       " 459,\n",
       " 460,\n",
       " 461,\n",
       " 462,\n",
       " 463,\n",
       " 464,\n",
       " 465,\n",
       " 466,\n",
       " 467,\n",
       " 468,\n",
       " 469,\n",
       " 470,\n",
       " 471,\n",
       " 472,\n",
       " 473,\n",
       " 474,\n",
       " 475,\n",
       " 476,\n",
       " 477,\n",
       " 478,\n",
       " 479,\n",
       " 480,\n",
       " 481,\n",
       " 482,\n",
       " 483,\n",
       " 484,\n",
       " 485,\n",
       " 486,\n",
       " 487,\n",
       " 488,\n",
       " 489,\n",
       " 490,\n",
       " 491,\n",
       " 492,\n",
       " 493,\n",
       " 494,\n",
       " 495,\n",
       " 496,\n",
       " 497,\n",
       " 498,\n",
       " 499,\n",
       " 500,\n",
       " 501,\n",
       " 502,\n",
       " 503,\n",
       " 504,\n",
       " 505,\n",
       " 506,\n",
       " 507,\n",
       " 508,\n",
       " 509,\n",
       " 510,\n",
       " 511,\n",
       " 512,\n",
       " 513,\n",
       " 514,\n",
       " 515,\n",
       " 516,\n",
       " 517,\n",
       " 518,\n",
       " 519,\n",
       " 520,\n",
       " 521,\n",
       " 522,\n",
       " 523,\n",
       " 524,\n",
       " 525,\n",
       " 526,\n",
       " 527,\n",
       " 528,\n",
       " 529,\n",
       " 530,\n",
       " 531,\n",
       " 532,\n",
       " 533,\n",
       " 534,\n",
       " 535,\n",
       " 536,\n",
       " 537,\n",
       " 538,\n",
       " 539,\n",
       " 540,\n",
       " 541,\n",
       " 542,\n",
       " 543,\n",
       " 544,\n",
       " 545,\n",
       " 546,\n",
       " 547,\n",
       " 548,\n",
       " 549,\n",
       " 550,\n",
       " 551,\n",
       " 552,\n",
       " 553,\n",
       " 554,\n",
       " 555,\n",
       " 556,\n",
       " 557,\n",
       " 558,\n",
       " 559,\n",
       " 560,\n",
       " 561,\n",
       " 562,\n",
       " 563,\n",
       " 564,\n",
       " 565,\n",
       " 566,\n",
       " 567,\n",
       " 568,\n",
       " 569,\n",
       " 570,\n",
       " 571,\n",
       " 572,\n",
       " 573,\n",
       " 574,\n",
       " 575,\n",
       " 576,\n",
       " 577,\n",
       " 578,\n",
       " 579,\n",
       " 580,\n",
       " 581,\n",
       " 582,\n",
       " 583,\n",
       " 584,\n",
       " 585,\n",
       " 586,\n",
       " 587,\n",
       " 588,\n",
       " 589,\n",
       " 590,\n",
       " 591,\n",
       " 592,\n",
       " 593,\n",
       " 594,\n",
       " 595,\n",
       " 596,\n",
       " 597,\n",
       " 598,\n",
       " 599,\n",
       " 600,\n",
       " 601,\n",
       " 602,\n",
       " 603,\n",
       " 604,\n",
       " 605,\n",
       " 606,\n",
       " 607,\n",
       " 608,\n",
       " 609,\n",
       " 610,\n",
       " 611,\n",
       " 612,\n",
       " 613,\n",
       " 614,\n",
       " 615,\n",
       " 616,\n",
       " 617,\n",
       " 618,\n",
       " 619,\n",
       " 620,\n",
       " 621,\n",
       " 622,\n",
       " 623,\n",
       " 624,\n",
       " 625,\n",
       " 626,\n",
       " 627,\n",
       " 628,\n",
       " 629,\n",
       " 630,\n",
       " 631,\n",
       " 632,\n",
       " 633,\n",
       " 634,\n",
       " 635,\n",
       " 636,\n",
       " 637,\n",
       " 638,\n",
       " 639,\n",
       " 640,\n",
       " 641,\n",
       " 642,\n",
       " 643,\n",
       " 644,\n",
       " 645,\n",
       " 646,\n",
       " 647,\n",
       " 648,\n",
       " 649,\n",
       " 650,\n",
       " 651,\n",
       " 652,\n",
       " 653,\n",
       " 654,\n",
       " 655,\n",
       " 656,\n",
       " 657,\n",
       " 658,\n",
       " 659,\n",
       " 660,\n",
       " 661,\n",
       " 662,\n",
       " 663,\n",
       " 664,\n",
       " 665,\n",
       " 666,\n",
       " 667,\n",
       " 668,\n",
       " 669,\n",
       " 670,\n",
       " 671,\n",
       " 672,\n",
       " 673,\n",
       " 674,\n",
       " 675,\n",
       " 676,\n",
       " 677,\n",
       " 678,\n",
       " 679,\n",
       " 680,\n",
       " 681,\n",
       " 682,\n",
       " 683,\n",
       " 684,\n",
       " 685,\n",
       " 686,\n",
       " 687,\n",
       " 688,\n",
       " 689,\n",
       " 690,\n",
       " 691,\n",
       " 692,\n",
       " 693,\n",
       " 694,\n",
       " 695,\n",
       " 696,\n",
       " 697,\n",
       " 698,\n",
       " 699,\n",
       " 700,\n",
       " 701,\n",
       " 702,\n",
       " 703,\n",
       " 704,\n",
       " 705,\n",
       " 706,\n",
       " 707,\n",
       " 708,\n",
       " 709,\n",
       " 710,\n",
       " 711,\n",
       " 712,\n",
       " 713,\n",
       " 714,\n",
       " 715,\n",
       " 716,\n",
       " 717,\n",
       " 718,\n",
       " 719,\n",
       " 720,\n",
       " 721,\n",
       " 722,\n",
       " 723,\n",
       " 724,\n",
       " 725,\n",
       " 726,\n",
       " 727,\n",
       " 728,\n",
       " 729,\n",
       " 730,\n",
       " 731,\n",
       " 732,\n",
       " 733,\n",
       " 734,\n",
       " 735,\n",
       " 736,\n",
       " 737,\n",
       " 738,\n",
       " 739,\n",
       " 740,\n",
       " 741,\n",
       " 742,\n",
       " 743,\n",
       " 744,\n",
       " 745,\n",
       " 746,\n",
       " 747,\n",
       " 748,\n",
       " 749,\n",
       " 750,\n",
       " 751,\n",
       " 752,\n",
       " 753,\n",
       " 754,\n",
       " 755,\n",
       " 756,\n",
       " 757,\n",
       " 758,\n",
       " 759,\n",
       " 760,\n",
       " 761,\n",
       " 762,\n",
       " 763,\n",
       " 764,\n",
       " 765,\n",
       " 766,\n",
       " 767,\n",
       " 768,\n",
       " 769,\n",
       " 770,\n",
       " 771,\n",
       " 772,\n",
       " 773,\n",
       " 774,\n",
       " 775,\n",
       " 776,\n",
       " 777,\n",
       " 778,\n",
       " 779,\n",
       " 780,\n",
       " 781,\n",
       " 782,\n",
       " 783,\n",
       " 784,\n",
       " 785,\n",
       " 786,\n",
       " 787,\n",
       " 788,\n",
       " 789,\n",
       " 790,\n",
       " 791,\n",
       " 792,\n",
       " 793,\n",
       " 794,\n",
       " 795,\n",
       " 796,\n",
       " 797,\n",
       " 798,\n",
       " 799,\n",
       " 800,\n",
       " 801,\n",
       " 802,\n",
       " 803,\n",
       " 804,\n",
       " 805,\n",
       " 806,\n",
       " 807,\n",
       " 808,\n",
       " 809,\n",
       " 810,\n",
       " 811,\n",
       " 812,\n",
       " 813,\n",
       " 814,\n",
       " 815,\n",
       " 816,\n",
       " 817,\n",
       " 818,\n",
       " 819,\n",
       " 820,\n",
       " 821,\n",
       " 822,\n",
       " 823,\n",
       " 824,\n",
       " 825,\n",
       " 826,\n",
       " 827,\n",
       " 828,\n",
       " 829,\n",
       " 830,\n",
       " 831,\n",
       " 832,\n",
       " 833,\n",
       " 834,\n",
       " 835,\n",
       " 836,\n",
       " 837,\n",
       " 838,\n",
       " 839,\n",
       " 840,\n",
       " 841,\n",
       " 842,\n",
       " 843,\n",
       " 844,\n",
       " 845,\n",
       " 846,\n",
       " 847,\n",
       " 848,\n",
       " 849,\n",
       " 850,\n",
       " 851,\n",
       " 852,\n",
       " 853,\n",
       " 854,\n",
       " 855,\n",
       " 856,\n",
       " 857,\n",
       " 858,\n",
       " 859,\n",
       " 860,\n",
       " 861,\n",
       " 862,\n",
       " 863,\n",
       " 864,\n",
       " 865,\n",
       " 866,\n",
       " 867,\n",
       " 868,\n",
       " 869,\n",
       " 870,\n",
       " 871,\n",
       " 872,\n",
       " 873,\n",
       " 874,\n",
       " 875,\n",
       " 876,\n",
       " 877,\n",
       " 878,\n",
       " 879,\n",
       " 880,\n",
       " 881,\n",
       " 882,\n",
       " 883,\n",
       " 884,\n",
       " 885,\n",
       " 886,\n",
       " 887,\n",
       " 888,\n",
       " 889,\n",
       " 890,\n",
       " 891,\n",
       " 892,\n",
       " 893,\n",
       " 894,\n",
       " 895,\n",
       " 896,\n",
       " 897,\n",
       " 898,\n",
       " 899,\n",
       " 900,\n",
       " 901,\n",
       " 902,\n",
       " 903,\n",
       " 904,\n",
       " 905,\n",
       " 906,\n",
       " 907,\n",
       " 908,\n",
       " 909,\n",
       " 910,\n",
       " 911,\n",
       " 912,\n",
       " 913,\n",
       " 914,\n",
       " 915,\n",
       " 916,\n",
       " 917,\n",
       " 918,\n",
       " 919,\n",
       " 920,\n",
       " 921,\n",
       " 922,\n",
       " 923,\n",
       " 924,\n",
       " 925,\n",
       " 926,\n",
       " 927,\n",
       " 928,\n",
       " 929,\n",
       " 930,\n",
       " 931,\n",
       " 932,\n",
       " 933,\n",
       " 934,\n",
       " 935,\n",
       " 936,\n",
       " 937,\n",
       " 938,\n",
       " 939,\n",
       " 940,\n",
       " 941,\n",
       " 942,\n",
       " 943,\n",
       " 944,\n",
       " 945,\n",
       " 946,\n",
       " 947,\n",
       " 948,\n",
       " 949,\n",
       " 950,\n",
       " 951,\n",
       " 952,\n",
       " 953,\n",
       " 954,\n",
       " 955,\n",
       " 956,\n",
       " 957,\n",
       " 958,\n",
       " 959,\n",
       " 960,\n",
       " 961,\n",
       " 962,\n",
       " 963,\n",
       " 964,\n",
       " 965,\n",
       " 966,\n",
       " 967,\n",
       " 968,\n",
       " 969,\n",
       " 970,\n",
       " 971,\n",
       " 972,\n",
       " 973,\n",
       " 974,\n",
       " 975,\n",
       " 976,\n",
       " 977,\n",
       " 978,\n",
       " 979,\n",
       " 980,\n",
       " 981,\n",
       " 982,\n",
       " 983,\n",
       " 984,\n",
       " 985,\n",
       " 986,\n",
       " 987,\n",
       " 988,\n",
       " 989,\n",
       " 990,\n",
       " 991,\n",
       " 992,\n",
       " 993,\n",
       " 994,\n",
       " 995,\n",
       " 996,\n",
       " 997,\n",
       " 998,\n",
       " 999,\n",
       " ...]"
      ]
     },
     "execution_count": 128,
     "metadata": {},
     "output_type": "execute_result"
    }
   ],
   "source": [
    "nums"
   ]
  },
  {
   "cell_type": "code",
   "execution_count": 126,
=======
   "execution_count": 228,
>>>>>>> 03e5672c0bdcfde8f7f579c87b9e72f325998b30
   "metadata": {},
   "outputs": [
    {
     "name": "stdout",
     "output_type": "stream",
     "text": [
<<<<<<< HEAD
      "333 ms ± 29.3 ms per loop (mean ± std. dev. of 7 runs, 1 loop each)\n"
=======
      "477 ms ± 19.7 ms per loop (mean ± std. dev. of 7 runs, 1 loop each)\n"
>>>>>>> 03e5672c0bdcfde8f7f579c87b9e72f325998b30
     ]
    }
   ],
   "source": [
    "%%timeit\n",
    "squares = []\n",
    "for n in nums:\n",
    "    squares.append(n ** 2)"
   ]
  },
  {
   "cell_type": "code",
   "execution_count": 229,
   "metadata": {},
   "outputs": [
    {
     "name": "stdout",
     "output_type": "stream",
     "text": [
      "440 ms ± 13.7 ms per loop (mean ± std. dev. of 7 runs, 1 loop each)\n"
     ]
    }
   ],
   "source": [
    "%%timeit\n",
    "[x ** 2 for x in nums]"
   ]
  },
  {
   "cell_type": "markdown",
   "metadata": {},
   "source": [
    "Very similar times as expected"
   ]
  }
 ],
 "metadata": {
  "kernelspec": {
   "display_name": "Python 3",
   "language": "python",
   "name": "python3"
  },
  "language_info": {
   "codemirror_mode": {
    "name": "ipython",
    "version": 3
   },
   "file_extension": ".py",
   "mimetype": "text/x-python",
   "name": "python",
   "nbconvert_exporter": "python",
   "pygments_lexer": "ipython3",
   "version": "3.8.5"
  },
  "toc": {
   "base_numbering": 1,
   "nav_menu": {},
   "number_sections": true,
   "sideBar": true,
   "skip_h1_title": true,
   "title_cell": "Table of Contents",
   "title_sidebar": "Contents",
   "toc_cell": true,
   "toc_position": {},
   "toc_section_display": true,
   "toc_window_display": true
  },
  "varInspector": {
   "cols": {
    "lenName": 16,
    "lenType": 16,
    "lenVar": 40
   },
   "kernels_config": {
    "python": {
     "delete_cmd_postfix": "",
     "delete_cmd_prefix": "del ",
     "library": "var_list.py",
     "varRefreshCmd": "print(var_dic_list())"
    },
    "r": {
     "delete_cmd_postfix": ") ",
     "delete_cmd_prefix": "rm(",
     "library": "var_list.r",
     "varRefreshCmd": "cat(var_dic_list()) "
    }
   },
   "types_to_exclude": [
    "module",
    "function",
    "builtin_function_or_method",
    "instance",
    "_Feature"
   ],
   "window_display": false
  }
 },
 "nbformat": 4,
 "nbformat_minor": 4
}
